{
  "cells": [
    {
      "cell_type": "markdown",
      "metadata": {
        "id": "66ms0r8XcQat"
      },
      "source": [
        "# Exercice 1 \"Perceptron simple\""
      ]
    },
    {
      "cell_type": "code",
      "execution_count": 1,
      "metadata": {
        "id": "M8uf4jklHIg9"
      },
      "outputs": [],
      "source": [
        "import numpy as np"
      ]
    },
    {
      "cell_type": "code",
      "execution_count": 2,
      "metadata": {
        "id": "Xe9Rq3VSdFeQ"
      },
      "outputs": [],
      "source": [
        "x=np.array([[1,1,0,0],[0,1,0,1],[1,0,1,1]])\n",
        "t=np.array([[0,1,0],[0,1,1],[1,1,0]])\n"
      ]
    },
    {
      "cell_type": "code",
      "execution_count": 3,
      "metadata": {
        "colab": {
          "base_uri": "https://localhost:8080/"
        },
        "id": "ZS1H03agdJw_",
        "outputId": "8acbdfea-512c-4ebc-ead2-c116f403760c"
      },
      "outputs": [
        {
          "data": {
            "text/plain": [
              "array([[ 0.92756286,  0.6888542 ,  0.9576959 ],\n",
              "       [-0.72641902,  0.37332562, -0.76453808],\n",
              "       [-0.73775754, -0.24699522,  0.39710017],\n",
              "       [ 0.56527303,  0.05317157,  0.88546097]])"
            ]
          },
          "execution_count": 3,
          "metadata": {},
          "output_type": "execute_result"
        }
      ],
      "source": [
        "w = np.random.uniform(-1,1, size=(4, 3))\n",
        "w"
      ]
    },
    {
      "cell_type": "code",
      "execution_count": 4,
      "metadata": {
        "colab": {
          "base_uri": "https://localhost:8080/"
        },
        "id": "QzNlxVMgdV9e",
        "outputId": "63190dff-4b3d-48ff-b474-7777ae9c2afe"
      },
      "outputs": [
        {
          "data": {
            "text/plain": [
              "array([[0., 0., 0.],\n",
              "       [0., 0., 0.],\n",
              "       [0., 0., 0.]])"
            ]
          },
          "execution_count": 4,
          "metadata": {},
          "output_type": "execute_result"
        }
      ],
      "source": [
        "o=np.zeros((3,3))\n",
        "o"
      ]
    },
    {
      "cell_type": "code",
      "execution_count": 5,
      "metadata": {
        "colab": {
          "base_uri": "https://localhost:8080/"
        },
        "id": "UGYQ5K7leaXL",
        "outputId": "1d09ed0f-5761-4ada-c625-af91a41fe5c5"
      },
      "outputs": [
        {
          "data": {
            "text/plain": [
              "array([[0, 0, 1],\n",
              "       [1, 1, 1],\n",
              "       [0, 1, 0]])"
            ]
          },
          "execution_count": 5,
          "metadata": {},
          "output_type": "execute_result"
        }
      ],
      "source": [
        "t.transpose()"
      ]
    },
    {
      "cell_type": "code",
      "execution_count": 6,
      "metadata": {
        "id": "LQS2UgOOoU2W"
      },
      "outputs": [],
      "source": [
        "def apprentissage(t,x,W,O):\n",
        "  c = 0\n",
        "  while (not(np.array_equal(t,O))):\n",
        "    for i in range(np.shape(t)[0]):\n",
        "      for j in range(np.shape(t)[1]):\n",
        "        if (np.dot(x,W)[i,j]<0):\n",
        "          O[i,j]=0\n",
        "        else:\n",
        "          O[i,j]=1\n",
        "    W=W+0.3*np.dot(x.transpose(),(t-O))\n",
        "    c+=1\n",
        "  print(\"nombre d'itérations =\",c)\n",
        "  print(W)\n"
      ]
    },
    {
      "cell_type": "code",
      "execution_count": 7,
      "metadata": {
        "colab": {
          "base_uri": "https://localhost:8080/"
        },
        "id": "-H9C8LQql_QR",
        "outputId": "505f4289-ae9b-40c6-cddf-fc664cdf9d9c"
      },
      "outputs": [
        {
          "name": "stdout",
          "output_type": "stream",
          "text": [
            "nombre d'itérations = 4\n",
            "[[ 0.62756286  0.6888542  -0.2423041 ]\n",
            " [-1.02641902  0.37332562 -0.46453808]\n",
            " [-0.73775754 -0.24699522 -0.50289983]\n",
            " [ 0.56527303  0.05317157  0.58546097]]\n"
          ]
        }
      ],
      "source": [
        "apprentissage(t,x,w,o)"
      ]
    },
    {
      "cell_type": "code",
      "execution_count": 8,
      "metadata": {
        "colab": {
          "base_uri": "https://localhost:8080/"
        },
        "id": "Zw78IKS4rL2S",
        "outputId": "336f5541-c2c0-4123-dd42-02b2c2429c8e"
      },
      "outputs": [
        {
          "data": {
            "text/plain": [
              "True"
            ]
          },
          "execution_count": 8,
          "metadata": {},
          "output_type": "execute_result"
        }
      ],
      "source": [
        "np.array_equal(t,o)\n"
      ]
    },
    {
      "cell_type": "markdown",
      "metadata": {
        "id": "DwgW3sBoktTZ"
      },
      "source": [
        "# Exercice2 \"perceptron de conjugaison\""
      ]
    },
    {
      "cell_type": "markdown",
      "metadata": {},
      "source": [
        "1 word = (i j k) , i in {1,2,3},j in {4,5,6} , k in {7,8}\n",
        "\n",
        "conjugate(word) = (i j k') , k' = 7 if k=8 , k'= 8 if k=7\n",
        "\n",
        "exception : conugate(367)=367\n",
        "1 word = (i j k) , i in {1,2,3},j in {4,5,6} , k in {7,8}\n",
        "\n",
        "conjugate(word) = (i j k') , k' = 7 if k=8 , k'= 8 if k=7\n",
        "\n",
        "exception : conugate(367)=367\n"
      ]
    },
    {
      "cell_type": "code",
      "execution_count": 9,
      "metadata": {
        "id": "ixef_xqpdaZl"
      },
      "outputs": [],
      "source": [
        "#encoding\n",
        "l1 = [[1,0,0], [0,1,0], [0,0,1]]\n",
        "l2 = [[1,0],[0,1]]"
      ]
    },
    {
      "cell_type": "code",
      "execution_count": 10,
      "metadata": {
        "colab": {
          "base_uri": "https://localhost:8080/"
        },
        "id": "scFSt-HwdfS6",
        "outputId": "9008554c-4aba-4924-b4d8-e3ce62e9b398"
      },
      "outputs": [
        {
          "data": {
            "text/plain": [
              "[[[1, 0, 0], [1, 0, 0], [1, 0]],\n",
              " [[1, 0, 0], [1, 0, 0], [0, 1]],\n",
              " [[1, 0, 0], [0, 1, 0], [1, 0]],\n",
              " [[1, 0, 0], [0, 1, 0], [0, 1]],\n",
              " [[1, 0, 0], [0, 0, 1], [1, 0]],\n",
              " [[1, 0, 0], [0, 0, 1], [0, 1]],\n",
              " [[0, 1, 0], [1, 0, 0], [1, 0]],\n",
              " [[0, 1, 0], [1, 0, 0], [0, 1]],\n",
              " [[0, 1, 0], [0, 1, 0], [1, 0]],\n",
              " [[0, 1, 0], [0, 1, 0], [0, 1]],\n",
              " [[0, 1, 0], [0, 0, 1], [1, 0]],\n",
              " [[0, 1, 0], [0, 0, 1], [0, 1]],\n",
              " [[0, 0, 1], [1, 0, 0], [1, 0]],\n",
              " [[0, 0, 1], [1, 0, 0], [0, 1]],\n",
              " [[0, 0, 1], [0, 1, 0], [1, 0]],\n",
              " [[0, 0, 1], [0, 1, 0], [0, 1]],\n",
              " [[0, 0, 1], [0, 0, 1], [1, 0]],\n",
              " [[0, 0, 1], [0, 0, 1], [0, 1]]]"
            ]
          },
          "execution_count": 10,
          "metadata": {},
          "output_type": "execute_result"
        }
      ],
      "source": [
        "l=[]\n",
        "for i in l1:\n",
        "  for j in l1:\n",
        "    for k in l2:\n",
        "      li=[]\n",
        "      li.append(i)\n",
        "      li.append(j)\n",
        "      li.append(k)\n",
        "      l.append(li)\n",
        "l\n"
      ]
    },
    {
      "cell_type": "code",
      "execution_count": 11,
      "metadata": {
        "id": "RISuyV6uiEdK"
      },
      "outputs": [],
      "source": [
        "X=[]\n",
        "for i in range(18):\n",
        "  X.append(sum(l[i], []))\n"
      ]
    },
    {
      "cell_type": "code",
      "execution_count": 12,
      "metadata": {
        "colab": {
          "base_uri": "https://localhost:8080/"
        },
        "id": "dahhiv2miMI6",
        "outputId": "e4c113f9-031d-41a3-a7fd-6637207fc792"
      },
      "outputs": [
        {
          "data": {
            "text/plain": [
              "[[1, 0, 0, 1, 0, 0, 1, 0],\n",
              " [1, 0, 0, 1, 0, 0, 0, 1],\n",
              " [1, 0, 0, 0, 1, 0, 1, 0],\n",
              " [1, 0, 0, 0, 1, 0, 0, 1],\n",
              " [1, 0, 0, 0, 0, 1, 1, 0],\n",
              " [1, 0, 0, 0, 0, 1, 0, 1],\n",
              " [0, 1, 0, 1, 0, 0, 1, 0],\n",
              " [0, 1, 0, 1, 0, 0, 0, 1],\n",
              " [0, 1, 0, 0, 1, 0, 1, 0],\n",
              " [0, 1, 0, 0, 1, 0, 0, 1],\n",
              " [0, 1, 0, 0, 0, 1, 1, 0],\n",
              " [0, 1, 0, 0, 0, 1, 0, 1],\n",
              " [0, 0, 1, 1, 0, 0, 1, 0],\n",
              " [0, 0, 1, 1, 0, 0, 0, 1],\n",
              " [0, 0, 1, 0, 1, 0, 1, 0],\n",
              " [0, 0, 1, 0, 1, 0, 0, 1],\n",
              " [0, 0, 1, 0, 0, 1, 1, 0],\n",
              " [0, 0, 1, 0, 0, 1, 0, 1]]"
            ]
          },
          "execution_count": 12,
          "metadata": {},
          "output_type": "execute_result"
        }
      ],
      "source": [
        "X"
      ]
    },
    {
      "cell_type": "code",
      "execution_count": 13,
      "metadata": {
        "id": "4PF7nDfeiM46"
      },
      "outputs": [],
      "source": [
        "X=np.array(X)"
      ]
    },
    {
      "cell_type": "code",
      "execution_count": 14,
      "metadata": {
        "id": "-QdfzHY-jpli"
      },
      "outputs": [],
      "source": [
        "T=X"
      ]
    },
    {
      "cell_type": "code",
      "execution_count": 15,
      "metadata": {
        "id": "lREepVNQj2Dg"
      },
      "outputs": [],
      "source": [
        "aux=0\n",
        "for i in range(1,18):\n",
        "  aux=T[i][6]\n",
        "  T[i][6]=T[i][7]\n",
        "  T[i][7]=aux\n"
      ]
    },
    {
      "cell_type": "code",
      "execution_count": 16,
      "metadata": {
        "colab": {
          "base_uri": "https://localhost:8080/"
        },
        "id": "sqtVRbvNk4xq",
        "outputId": "6a12ff11-16d0-4354-bb27-53b31c8d3997"
      },
      "outputs": [
        {
          "data": {
            "text/plain": [
              "array([[1, 1, 1, 1, 1, 1, 0, 0, 0, 0, 0, 0, 0, 0, 0, 0, 0, 0],\n",
              "       [0, 0, 0, 0, 0, 0, 1, 1, 1, 1, 1, 1, 0, 0, 0, 0, 0, 0],\n",
              "       [0, 0, 0, 0, 0, 0, 0, 0, 0, 0, 0, 0, 1, 1, 1, 1, 1, 1],\n",
              "       [1, 1, 0, 0, 0, 0, 1, 1, 0, 0, 0, 0, 1, 1, 0, 0, 0, 0],\n",
              "       [0, 0, 1, 1, 0, 0, 0, 0, 1, 1, 0, 0, 0, 0, 1, 1, 0, 0],\n",
              "       [0, 0, 0, 0, 1, 1, 0, 0, 0, 0, 1, 1, 0, 0, 0, 0, 1, 1],\n",
              "       [1, 1, 0, 1, 0, 1, 0, 1, 0, 1, 0, 1, 0, 1, 0, 1, 0, 1],\n",
              "       [0, 0, 1, 0, 1, 0, 1, 0, 1, 0, 1, 0, 1, 0, 1, 0, 1, 0]])"
            ]
          },
          "execution_count": 16,
          "metadata": {},
          "output_type": "execute_result"
        }
      ],
      "source": [
        "T\n",
        "T.transpose()"
      ]
    },
    {
      "cell_type": "code",
      "execution_count": 17,
      "metadata": {
        "id": "aWH-u02hlBgn"
      },
      "outputs": [],
      "source": [
        "W = np.random.uniform(-1,1, size=(8,8))\n",
        "O=np.zeros((18,8))"
      ]
    },
    {
      "cell_type": "code",
      "execution_count": 18,
      "metadata": {
        "colab": {
          "base_uri": "https://localhost:8080/"
        },
        "id": "OF8bzQUsmcOe",
        "outputId": "0fe9bf5d-b7f5-4cdf-da77-0992636c4a45"
      },
      "outputs": [
        {
          "data": {
            "text/plain": [
              "array([[ 0.72438741, -0.06225151,  0.07362495, -0.90284437,  0.84225196,\n",
              "         0.80303227,  0.60427306, -0.28109006],\n",
              "       [-0.38917417, -0.73662193, -0.93299985,  0.58092492, -0.74352666,\n",
              "         0.31429184, -0.98620416,  0.13551543],\n",
              "       [ 0.96236374,  0.02382004,  0.58564053, -0.24880879,  0.77830852,\n",
              "         0.93235747,  0.5267579 , -0.9186774 ],\n",
              "       [ 0.78646909,  0.89479408,  0.61573921, -0.20108099,  0.75758806,\n",
              "        -0.58487991, -0.77591426,  0.22082216],\n",
              "       [-0.74511093, -0.43327155,  0.71484072,  0.52521942, -0.65838767,\n",
              "        -0.64973284, -0.71335565, -0.07795063],\n",
              "       [-0.64362311, -0.25860303,  0.91586814,  0.8035363 , -0.30921475,\n",
              "         0.39453722, -0.79859023,  0.21023135],\n",
              "       [-0.5664018 ,  0.95352964, -0.95136992,  0.38112301, -0.66207502,\n",
              "        -0.61088687, -0.56781499, -0.21393988],\n",
              "       [ 0.34320262, -0.10461836,  0.66136601, -0.6941438 , -0.06051815,\n",
              "        -0.78635904,  0.53859195, -0.32112165]])"
            ]
          },
          "execution_count": 18,
          "metadata": {},
          "output_type": "execute_result"
        }
      ],
      "source": [
        "W"
      ]
    },
    {
      "cell_type": "code",
      "execution_count": 19,
      "metadata": {
        "colab": {
          "base_uri": "https://localhost:8080/"
        },
        "id": "zgWXSgm4miVX",
        "outputId": "198d49ec-d1e0-4945-c716-a70196aa4336"
      },
      "outputs": [
        {
          "data": {
            "text/plain": [
              "array([[0., 0., 0., 0., 0., 0., 0., 0.],\n",
              "       [0., 0., 0., 0., 0., 0., 0., 0.],\n",
              "       [0., 0., 0., 0., 0., 0., 0., 0.],\n",
              "       [0., 0., 0., 0., 0., 0., 0., 0.],\n",
              "       [0., 0., 0., 0., 0., 0., 0., 0.],\n",
              "       [0., 0., 0., 0., 0., 0., 0., 0.],\n",
              "       [0., 0., 0., 0., 0., 0., 0., 0.],\n",
              "       [0., 0., 0., 0., 0., 0., 0., 0.],\n",
              "       [0., 0., 0., 0., 0., 0., 0., 0.],\n",
              "       [0., 0., 0., 0., 0., 0., 0., 0.],\n",
              "       [0., 0., 0., 0., 0., 0., 0., 0.],\n",
              "       [0., 0., 0., 0., 0., 0., 0., 0.],\n",
              "       [0., 0., 0., 0., 0., 0., 0., 0.],\n",
              "       [0., 0., 0., 0., 0., 0., 0., 0.],\n",
              "       [0., 0., 0., 0., 0., 0., 0., 0.],\n",
              "       [0., 0., 0., 0., 0., 0., 0., 0.],\n",
              "       [0., 0., 0., 0., 0., 0., 0., 0.],\n",
              "       [0., 0., 0., 0., 0., 0., 0., 0.]])"
            ]
          },
          "execution_count": 19,
          "metadata": {},
          "output_type": "execute_result"
        }
      ],
      "source": [
        "O"
      ]
    },
    {
      "cell_type": "code",
      "execution_count": 20,
      "metadata": {
        "colab": {
          "base_uri": "https://localhost:8080/"
        },
        "id": "oO_OP2yPmo9Q",
        "outputId": "6a8a7977-ccf1-4fc6-accc-f45da9b0a832"
      },
      "outputs": [
        {
          "name": "stdout",
          "output_type": "stream",
          "text": [
            "nombre d'itérations = 3\n",
            "[[ 1.92438741 -1.26225151 -0.82637505 -0.30284437  0.24225196  0.80303227\n",
            "   1.20427306 -0.28109006]\n",
            " [-0.68917417  1.36337807 -1.83299985 -0.31907508  0.45647334  0.61429184\n",
            "  -0.08620416 -0.16448457]\n",
            " [-0.23763626 -1.17617996  2.08564053 -0.24880879  0.17830852  0.93235747\n",
            "   0.5267579  -0.0186774 ]\n",
            " [-0.11353091 -0.00520592  0.61573921  1.89891901 -0.44241194 -0.58487991\n",
            "   0.12408574  0.22082216]\n",
            " [-0.44511093 -0.13327155  0.71484072 -0.67478058  1.14161233 -0.64973284\n",
            "  -0.41335565  0.52204937]\n",
            " [-0.34362311  0.04139697  0.61586814 -0.3964637  -0.90921475  0.69453722\n",
            "  -0.49859023  0.21023135]\n",
            " [-0.2664018   0.35352964 -0.35136992  0.08112301 -0.36207502 -0.61088687\n",
            "   2.43218501 -1.41393988]\n",
            " [-0.25679738  0.19538164 -0.23863399 -0.6941438  -0.36051815 -0.48635904\n",
            "  -0.96140805  1.47887835]]\n"
          ]
        }
      ],
      "source": [
        "apprentissage(T,X,W,O)"
      ]
    },
    {
      "cell_type": "code",
      "execution_count": 21,
      "metadata": {
        "colab": {
          "base_uri": "https://localhost:8080/"
        },
        "id": "n5w0iql2nqCG",
        "outputId": "b9277323-66d3-47bc-cdca-4327df98f1d7"
      },
      "outputs": [
        {
          "data": {
            "text/plain": [
              "True"
            ]
          },
          "execution_count": 21,
          "metadata": {},
          "output_type": "execute_result"
        }
      ],
      "source": [
        "np.array_equal(T,O)\n"
      ]
    },
    {
      "cell_type": "markdown",
      "metadata": {
        "id": "zD5EfimOexYu"
      },
      "source": [
        "# Exercice 3 : Perceptron probabiliste"
      ]
    },
    {
      "cell_type": "code",
      "execution_count": 22,
      "metadata": {
        "id": "f7V2QfaVTfWO"
      },
      "outputs": [],
      "source": [
        "import random\n",
        "import math"
      ]
    },
    {
      "cell_type": "code",
      "execution_count": 23,
      "metadata": {
        "id": "2NSjmRfBrh6B"
      },
      "outputs": [],
      "source": [
        "def apprentissage_proba(t,x,W,O):\n",
        "  c = 0\n",
        "  print(\"matrice des poids init\",W)\n",
        "  while (not(np.array_equal(t,O))):\n",
        "    for i in range(np.shape(t)[0]):\n",
        "      for j in range(np.shape(t)[1]):\n",
        "        p= 1 /( 1 + math.exp(-np.dot(x,W)[i,j]))\n",
        "        r= random.random()\n",
        "        if (p<r):\n",
        "          O[i,j]=0\n",
        "        else:\n",
        "          O[i,j]=1\n",
        "    W=W+0.3*np.dot(x.transpose(),(t-O))\n",
        "    c+=1\n",
        "  print(\"nombre d'itérations =\",c)\n",
        "  print(\"matrice des poids finale\" ,W)\n",
        "\n"
      ]
    },
    {
      "cell_type": "code",
      "execution_count": 24,
      "metadata": {
        "id": "SJ4EhMF2k0ty"
      },
      "outputs": [],
      "source": [
        "x2=np.array([[1,1,0,0],[0,1,0,1],[1,0,1,1]])\n",
        "t2=np.array([[0,1,0],[0,1,1],[1,1,0]])\n",
        "o2=np.zeros((3,3))\n",
        "w2 = np.random.uniform(-1,1, size=(4, 3))"
      ]
    },
    {
      "cell_type": "code",
      "execution_count": 25,
      "metadata": {
        "colab": {
          "base_uri": "https://localhost:8080/"
        },
        "id": "jTVyyB4XTAIS",
        "outputId": "719e6f10-2315-40b1-e3ad-2f7177eb3b59"
      },
      "outputs": [
        {
          "name": "stdout",
          "output_type": "stream",
          "text": [
            "matrice des poids init [[ 0.91300842  0.00992429 -0.56000524]\n",
            " [ 0.94084197 -0.25463128 -0.7342069 ]\n",
            " [-0.98601757  0.35242995 -0.75601042]\n",
            " [-0.77168955 -0.30688562  0.39657451]]\n",
            "nombre d'itérations = 18\n",
            "matrice des poids finale [[ 0.31300842  1.50992429 -2.36000524]\n",
            " [-2.65915803  1.84536872 -0.1342069 ]\n",
            " [ 0.81398243  0.95242995 -1.65601042]\n",
            " [-0.17168955  1.49311438  0.99657451]]\n"
          ]
        }
      ],
      "source": [
        "apprentissage_proba(t2,x2,w2,o2)"
      ]
    },
    {
      "cell_type": "markdown",
      "metadata": {
        "id": "bx-E2cpVTt6f"
      },
      "source": [
        "# Exercice4 : Apprentissage Par Retropropagation d'erreur"
      ]
    },
    {
      "cell_type": "code",
      "execution_count": 26,
      "metadata": {
        "id": "bGdm9qKWk0t0"
      },
      "outputs": [],
      "source": [
        "import numpy as np"
      ]
    },
    {
      "cell_type": "code",
      "execution_count": 27,
      "metadata": {
        "id": "Hea3R_nSk0t0"
      },
      "outputs": [],
      "source": [
        "x=np.array([[1],[2],[3]])\n",
        "t=np.array([[0.1],[0.3],[0.7]])\n",
        "W=np.array([[0.5,0.3,0.1],[0.3,0.2,0.1]]) #w = np.random.uniform(-1,1, size=(2, 3))\n",
        "Z=np.array([[0.1,0.2],[0.3,0.4],[0.5,0.6]]) #z = np.random.uniform(-1,1, size=(3, 2))\n",
        "epsilon=10**(-9) #précision\n",
        "eta=1 #learning rate"
      ]
    },
    {
      "cell_type": "code",
      "execution_count": 28,
      "metadata": {
        "id": "871Juqrxk0t1"
      },
      "outputs": [],
      "source": [
        "def f(x) :\n",
        "    return(1 / (1+np.exp(-x)))"
      ]
    },
    {
      "cell_type": "code",
      "execution_count": 29,
      "metadata": {
        "id": "1vxXWmiHk0t1"
      },
      "outputs": [],
      "source": [
        "# mise à jour de la matrice des weights\n",
        "def maj(A,eta,d,m): \n",
        "    return(A+eta*np.dot(d,m.transpose()))"
      ]
    },
    {
      "cell_type": "code",
      "execution_count": 30,
      "metadata": {
        "id": "MN-c_rDfk0t1"
      },
      "outputs": [],
      "source": [
        "def apprentissage_retro_prop(x,t,W,Z,epsilon,eta) :\n",
        "    c=0\n",
        "    e=np.ones((3,1))\n",
        "    o=np.zeros((3,1))\n",
        "    while(np.linalg.norm(e)>epsilon):\n",
        "        b=np.dot(W,x)\n",
        "        h=f(b)\n",
        "        a=np.dot(Z,h)\n",
        "        o=f(a)\n",
        "        e=t-o\n",
        "        delta_sortie = e * o * (1 - o)\n",
        "        Z=maj(Z,eta,delta_sortie,h)\n",
        "        delta_cachée= h * (1 - h) * (np.dot(Z.transpose(),delta_sortie))\n",
        "        W=maj(W,eta,delta_cachée,x)\n",
        "        c +=1\n",
        "    print(\"nombre d'itérations = \",c)\n",
        "    print(\"erreur e \\n\", np.linalg.norm(e))"
      ]
    },
    {
      "cell_type": "code",
      "execution_count": 31,
      "metadata": {
        "colab": {
          "base_uri": "https://localhost:8080/"
        },
        "id": "9bLyoWFKk0t2",
        "outputId": "729fc8a1-5103-4170-9b8e-a6bcf052624b"
      },
      "outputs": [
        {
          "name": "stdout",
          "output_type": "stream",
          "text": [
            "nombre d'itérations =  1152\n",
            "erreur e \n",
            " 9.925983737057078e-10\n"
          ]
        }
      ],
      "source": [
        "apprentissage_retro_prop(x,t,W,Z,epsilon,eta)"
      ]
    },
    {
      "cell_type": "code",
      "execution_count": 31,
      "metadata": {
        "id": "8RdsNeelk0t2"
      },
      "outputs": [],
      "source": []
    }
  ],
  "metadata": {
    "colab": {
      "collapsed_sections": [],
      "provenance": []
    },
    "kernelspec": {
      "display_name": "Python 3.9.0 64-bit",
      "language": "python",
      "name": "python3"
    },
    "language_info": {
      "codemirror_mode": {
        "name": "ipython",
        "version": 3
      },
      "file_extension": ".py",
      "mimetype": "text/x-python",
      "name": "python",
      "nbconvert_exporter": "python",
      "pygments_lexer": "ipython3",
      "version": "3.9.0"
    },
    "vscode": {
      "interpreter": {
        "hash": "f6c8f846148a3e4d140e6ddf63c190cff559dcf260a4a21539f0978f2b58638c"
      }
    }
  },
  "nbformat": 4,
  "nbformat_minor": 0
}
